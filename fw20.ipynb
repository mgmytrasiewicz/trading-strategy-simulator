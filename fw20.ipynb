{
 "cells": [
  {
   "cell_type": "markdown",
   "id": "644a1bf7",
   "metadata": {},
   "source": [
    "# FW20 Trading System"
   ]
  },
  {
   "cell_type": "markdown",
   "id": "623ca951",
   "metadata": {},
   "source": [
    "## FW20 Futures"
   ]
  },
  {
   "cell_type": "markdown",
   "id": "82e92bd6",
   "metadata": {},
   "source": [
    "FW20 futures are standardized financial contracts traded on [the Warsaw Stock Exchange (GPW)](https://www.gpw.pl/en-home), where the underlying asset is the WIG20 index — a benchmark index representing the 20 largest companies on the Polish stock market."
   ]
  },
  {
   "cell_type": "markdown",
   "id": "b56e1ff5",
   "metadata": {},
   "source": [
    "### What Are FW20 Futures?\n",
    "\n",
    "- FW20 stands for Futures on WIG20.\n",
    "- These are cash-settled index futures, meaning there's no physical delivery of stocks—just a monetary settlement based on the index value.\n",
    "- They allow investors to speculate, hedge, or gain leveraged exposure to the Polish equity market.\n",
    "\n",
    "### Contract Specifications\n",
    "\n",
    "- **Underlying asset**: WIG20 index\n",
    "- **Multiplier**: 20 PLN per index point → If the contract is priced at 2,000 points, its nominal value is 40,000 PLN.\n",
    "- **Settlement**: Cash only, no delivery of shares\n",
    "- **Expiration months**: March, June, September, December (quarterly cycle)\n",
    "- **Last trading day**: Third Friday of the expiration month (or the prior session if Friday is a holiday)\n",
    "\n",
    "### Contract Symbol: FW20EYY20\n",
    "\n",
    "- **F**: Futures contract\n",
    "- **W20**: Underlying assest - WIG20 index\n",
    "- **E**: Expiration month - H (March), M (June), U (September), Z (December)\n",
    "- **YY**: Year of expiration\n",
    "- **20**: Multiplier\n",
    "- **Example**: FW20H2620 indicates futures contract expiring in June 2026\n",
    "\n",
    "### How They’re Used\n",
    "\n",
    "- **Speculation**: Traders bet on the direction of the WIG20 index.\n",
    "- **Hedging**: Investors protect their portfolios against market downturns.\n",
    "- **Arbitrage**: Exploit price differences between futures and spot markets.\n",
    "- **Leverage**: Control a large position with relatively small capital.\n",
    "\n",
    "### Risks\n",
    "\n",
    "- Futures are highly leveraged, so small index movements can lead to large gains or losses.\n",
    "- They require margin deposits and are marked-to-market daily.\n",
    "- Not suitable for beginners without proper risk management.\n",
    "\n",
    "### More Info\n",
    "\n",
    "- [GPW's derivative page](https://www.gpw.pl/derivatives)\n",
    "- [BOSSA's futures education section](https://bossa.pl/edukacja/kontrakty-opcje/kontrakty-terminowe/charakterystyka/kontrakty-na-indeksy) [PL version only]\n",
    "\n"
   ]
  },
  {
   "cell_type": "markdown",
   "id": "eb7d5439",
   "metadata": {},
   "source": [
    "## EDA"
   ]
  },
  {
   "cell_type": "code",
   "execution_count": 24,
   "id": "662486a7",
   "metadata": {},
   "outputs": [],
   "source": [
    "import pandas as pd\n",
    "import numpy as np\n",
    "import matplotlib.pyplot as plt\n",
    "%matplotlib inline"
   ]
  },
  {
   "cell_type": "code",
   "execution_count": 11,
   "id": "093de2dd",
   "metadata": {},
   "outputs": [],
   "source": [
    "filepath = \"data/fw20.csv\"\n",
    "df = pd.read_csv(filepath, parse_dates=['Date'])\n",
    "df.set_index('Date', inplace=True) # Set 'Date' as the index\n",
    "df.sort_index(inplace=True) # Ensure data is sorted by date"
   ]
  },
  {
   "cell_type": "code",
   "execution_count": 22,
   "id": "41834ba0",
   "metadata": {},
   "outputs": [
    {
     "data": {
      "text/html": [
       "<div>\n",
       "<style scoped>\n",
       "    .dataframe tbody tr th:only-of-type {\n",
       "        vertical-align: middle;\n",
       "    }\n",
       "\n",
       "    .dataframe tbody tr th {\n",
       "        vertical-align: top;\n",
       "    }\n",
       "\n",
       "    .dataframe thead th {\n",
       "        text-align: right;\n",
       "    }\n",
       "</style>\n",
       "<table border=\"1\" class=\"dataframe\">\n",
       "  <thead>\n",
       "    <tr style=\"text-align: right;\">\n",
       "      <th></th>\n",
       "      <th>Open</th>\n",
       "      <th>High</th>\n",
       "      <th>Low</th>\n",
       "      <th>Close</th>\n",
       "      <th>Volume</th>\n",
       "      <th>Open Interest</th>\n",
       "    </tr>\n",
       "    <tr>\n",
       "      <th>Date</th>\n",
       "      <th></th>\n",
       "      <th></th>\n",
       "      <th></th>\n",
       "      <th></th>\n",
       "      <th></th>\n",
       "      <th></th>\n",
       "    </tr>\n",
       "  </thead>\n",
       "  <tbody>\n",
       "    <tr>\n",
       "      <th>2025-09-25</th>\n",
       "      <td>2853</td>\n",
       "      <td>2856</td>\n",
       "      <td>2815</td>\n",
       "      <td>2825</td>\n",
       "      <td>20231</td>\n",
       "      <td>62808</td>\n",
       "    </tr>\n",
       "    <tr>\n",
       "      <th>2025-09-26</th>\n",
       "      <td>2828</td>\n",
       "      <td>2863</td>\n",
       "      <td>2813</td>\n",
       "      <td>2863</td>\n",
       "      <td>17378</td>\n",
       "      <td>65270</td>\n",
       "    </tr>\n",
       "    <tr>\n",
       "      <th>2025-09-29</th>\n",
       "      <td>2873</td>\n",
       "      <td>2880</td>\n",
       "      <td>2845</td>\n",
       "      <td>2859</td>\n",
       "      <td>13546</td>\n",
       "      <td>65238</td>\n",
       "    </tr>\n",
       "    <tr>\n",
       "      <th>2025-09-30</th>\n",
       "      <td>2854</td>\n",
       "      <td>2857</td>\n",
       "      <td>2830</td>\n",
       "      <td>2857</td>\n",
       "      <td>14266</td>\n",
       "      <td>66112</td>\n",
       "    </tr>\n",
       "    <tr>\n",
       "      <th>2025-10-01</th>\n",
       "      <td>2844</td>\n",
       "      <td>2885</td>\n",
       "      <td>2831</td>\n",
       "      <td>2878</td>\n",
       "      <td>18432</td>\n",
       "      <td>67739</td>\n",
       "    </tr>\n",
       "  </tbody>\n",
       "</table>\n",
       "</div>"
      ],
      "text/plain": [
       "            Open  High   Low  Close  Volume  Open Interest\n",
       "Date                                                      \n",
       "2025-09-25  2853  2856  2815   2825   20231          62808\n",
       "2025-09-26  2828  2863  2813   2863   17378          65270\n",
       "2025-09-29  2873  2880  2845   2859   13546          65238\n",
       "2025-09-30  2854  2857  2830   2857   14266          66112\n",
       "2025-10-01  2844  2885  2831   2878   18432          67739"
      ]
     },
     "execution_count": 22,
     "metadata": {},
     "output_type": "execute_result"
    }
   ],
   "source": [
    "df.tail()"
   ]
  },
  {
   "cell_type": "code",
   "execution_count": 16,
   "id": "24ffce6f",
   "metadata": {},
   "outputs": [
    {
     "data": {
      "text/plain": [
       "Open             0\n",
       "High             0\n",
       "Low              0\n",
       "Close            0\n",
       "Volume           0\n",
       "Open Interest    2\n",
       "dtype: int64"
      ]
     },
     "execution_count": 16,
     "metadata": {},
     "output_type": "execute_result"
    }
   ],
   "source": [
    "df.isnull().sum()"
   ]
  },
  {
   "cell_type": "code",
   "execution_count": 19,
   "id": "91ff3240",
   "metadata": {},
   "outputs": [],
   "source": [
    "df['Open Interest'].ffill(inplace=True)\n",
    "df['Open Interest'] = df['Open Interest'].astype(int)"
   ]
  },
  {
   "cell_type": "code",
   "execution_count": 20,
   "id": "ece79a4b",
   "metadata": {},
   "outputs": [
    {
     "name": "stdout",
     "output_type": "stream",
     "text": [
      "<class 'pandas.core.frame.DataFrame'>\n",
      "DatetimeIndex: 6932 entries, 1998-01-20 to 2025-10-01\n",
      "Data columns (total 6 columns):\n",
      " #   Column         Non-Null Count  Dtype\n",
      "---  ------         --------------  -----\n",
      " 0   Open           6932 non-null   int64\n",
      " 1   High           6932 non-null   int64\n",
      " 2   Low            6932 non-null   int64\n",
      " 3   Close          6932 non-null   int64\n",
      " 4   Volume         6932 non-null   int64\n",
      " 5   Open Interest  6932 non-null   int64\n",
      "dtypes: int64(6)\n",
      "memory usage: 379.1 KB\n"
     ]
    }
   ],
   "source": [
    "df.info()"
   ]
  },
  {
   "cell_type": "code",
   "execution_count": 26,
   "id": "6babd253",
   "metadata": {},
   "outputs": [],
   "source": [
    "short_window = 2\n",
    "long_window = 14\n",
    "\n",
    "df['Prev_Close'] = df['Close'].shift(1)\n",
    "df['H-L'] = df['High'] - df['Low']\n",
    "df['H-PC'] = abs(df['High'] - df['Prev_Close'])\n",
    "df['L-PC'] = abs(df['Low'] - df['Prev_Close'])\n",
    "df['TR'] = df[['H-L', 'H-PC', 'L-PC']].max(axis=1)\n",
    "df['ATR_short'] = df['TR'].rolling(window=short_window).mean()\n",
    "df['ATR_long'] = df['TR'].rolling(window=long_window).mean()"
   ]
  },
  {
   "cell_type": "code",
   "execution_count": null,
   "id": "3bfba0f4",
   "metadata": {},
   "outputs": [],
   "source": []
  }
 ],
 "metadata": {
  "kernelspec": {
   "display_name": "venv (3.12.3)",
   "language": "python",
   "name": "python3"
  },
  "language_info": {
   "codemirror_mode": {
    "name": "ipython",
    "version": 3
   },
   "file_extension": ".py",
   "mimetype": "text/x-python",
   "name": "python",
   "nbconvert_exporter": "python",
   "pygments_lexer": "ipython3",
   "version": "3.12.3"
  }
 },
 "nbformat": 4,
 "nbformat_minor": 5
}
