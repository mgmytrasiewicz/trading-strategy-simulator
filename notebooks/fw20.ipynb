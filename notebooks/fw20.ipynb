{
 "cells": [
  {
   "cell_type": "markdown",
   "id": "2706aa77",
   "metadata": {},
   "source": [
    "## FW20 Futures"
   ]
  },
  {
   "cell_type": "markdown",
   "id": "58754e20",
   "metadata": {},
   "source": [
    "FW20 futures are standardized financial contracts traded on [the Warsaw Stock Exchange (GPW)](https://www.gpw.pl/en-home), where the underlying asset is the WIG20 index — a benchmark index representing the 20 largest companies on the Polish stock market."
   ]
  },
  {
   "cell_type": "markdown",
   "id": "1abda32e",
   "metadata": {},
   "source": [
    "### What Are FW20 Futures?\n",
    "\n",
    "- FW20 stands for Futures on WIG20.\n",
    "- These are cash-settled index futures, meaning there's no physical delivery of stocks—just a monetary settlement based on the index value.\n",
    "- They allow investors to speculate, hedge, or gain leveraged exposure to the Polish equity market.\n",
    "\n",
    "### Contract Specifications\n",
    "\n",
    "- **Underlying asset**: WIG20 index\n",
    "- **Multiplier**: 20 PLN per index point → If the contract is priced at 2,000 points, its nominal value is 40,000 PLN.\n",
    "- **Settlement**: Cash only, no delivery of shares\n",
    "- **Expiration months**: March, June, September, December (quarterly cycle)\n",
    "- **Last trading day**: Third Friday of the expiration month (or the prior session if Friday is a holiday)\n",
    "\n",
    "### Contract Symbol: FW20EYY20\n",
    "\n",
    "- **F**: Futures contract\n",
    "- **W20**: Underlying assest - WIG20 index\n",
    "- **E**: Expiration month - H (March), M (June), U (September), Z (December)\n",
    "- **YY**: Year of expiration\n",
    "- **20**: Multiplier\n",
    "- **Example**: FW20H2620 indicates futures contract expiring in June 2026\n",
    "\n",
    "### How They’re Used\n",
    "\n",
    "- **Speculation**: Traders bet on the direction of the WIG20 index.\n",
    "- **Hedging**: Investors protect their portfolios against market downturns.\n",
    "- **Arbitrage**: Exploit price differences between futures and spot markets.\n",
    "- **Leverage**: Control a large position with relatively small capital.\n",
    "\n",
    "### Risks\n",
    "\n",
    "- Futures are highly leveraged, so small index movements can lead to large gains or losses.\n",
    "- They require margin deposits and are marked-to-market daily.\n",
    "- Not suitable for beginners without proper risk management.\n",
    "\n",
    "### More Info\n",
    "\n",
    "- [GPW's derivative page](https://www.gpw.pl/derivatives)\n",
    "- [BOSSA's futures education section](https://bossa.pl/edukacja/kontrakty-opcje/kontrakty-terminowe/charakterystyka/kontrakty-na-indeksy) [PL version only]\n",
    "\n"
   ]
  }
 ],
 "metadata": {
  "kernelspec": {
   "display_name": "venv (3.12.3)",
   "language": "python",
   "name": "python3"
  },
  "language_info": {
   "name": "python",
   "version": "3.12.3"
  }
 },
 "nbformat": 4,
 "nbformat_minor": 5
}
